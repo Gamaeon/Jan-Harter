{
 "cells": [
  {
   "cell_type": "markdown",
   "id": "bdcfeb5f-c14d-47b9-8d15-4e3df7da8857",
   "metadata": {},
   "source": [
    "# Data Science Tools and Ecosystem"
   ]
  },
  {
   "cell_type": "markdown",
   "id": "536bfe06-972e-4087-b2ab-ace708270add",
   "metadata": {},
   "source": [
    " ## Author\n",
    " Jan Harter"
   ]
  },
  {
   "cell_type": "markdown",
   "id": "2fb12aaa-0744-4ffb-9ae6-e88cde4d06fa",
   "metadata": {},
   "source": [
    "In this notebook, Data Science Tools and Ecosystem are summarized."
   ]
  },
  {
   "cell_type": "markdown",
   "id": "cca94d3e-60e0-4a3b-a463-30b08fdd3182",
   "metadata": {},
   "source": [
    "__Objectives:__\n",
    "+ Popular Languages for Data Science \n",
    "+ Popular Libraries\n",
    "+ Arithmetic expressions\n"
   ]
  },
  {
   "cell_type": "markdown",
   "id": "00c1013c-2c38-48d6-a072-b045f36a3376",
   "metadata": {},
   "source": [
    "Some of the popular languages that Data Scientists use are:\n",
    "1. Python\n",
    "2. Java\n",
    "3. C++\n",
    "4. R\n",
    "5. SQL"
   ]
  },
  {
   "cell_type": "markdown",
   "id": "77a9c371-f182-4c44-8256-e1760318f913",
   "metadata": {},
   "source": [
    "Some of the commonly used libraries used by Data Scientists include:\n",
    "1. ggplot2\n",
    "2. Plotly\n",
    "3. NumbPy\n",
    "4. TensorFlow"
   ]
  },
  {
   "cell_type": "markdown",
   "id": "025a9f61-bb64-41f2-ad49-d912d831964b",
   "metadata": {},
   "source": [
    "|Data Science Tools|\n",
    "|------------------|\n",
    "|ApacheSpark|\n",
    "|Hadoop|\n",
    "|MySQL|\n"
   ]
  },
  {
   "cell_type": "markdown",
   "id": "62969dc5-47b8-4af2-bac4-83cb349f7352",
   "metadata": {},
   "source": [
    "### Below are a few examples of evaluating arithmetic expressions in Python."
   ]
  },
  {
   "cell_type": "code",
   "execution_count": 4,
   "id": "51139c57-5c79-400e-97c0-ae3612bf72b4",
   "metadata": {},
   "outputs": [
    {
     "data": {
      "text/plain": [
       "17"
      ]
     },
     "execution_count": 4,
     "metadata": {},
     "output_type": "execute_result"
    }
   ],
   "source": [
    "#This is a simple arithmetic expression to multiply and then add integers.\n",
    "(3*4)+5\n"
   ]
  },
  {
   "cell_type": "code",
   "execution_count": 24,
   "id": "97cad506-4117-4813-a9a5-38b00221a565",
   "metadata": {},
   "outputs": [
    {
     "name": "stdout",
     "output_type": "stream",
     "text": [
      "200  minutes equal\n",
      "3.3333333333333335\n",
      "Hours\n"
     ]
    }
   ],
   "source": [
    "#This will convert 200 minutes to hours by diving by 60\n",
    "x=200/60\n",
    "print(\"200  minutes equal\")\n",
    "print(x)\n",
    "print(\"Hours\")"
   ]
  },
  {
   "cell_type": "code",
   "execution_count": null,
   "id": "08d090eb-29fb-49cd-97c0-40cff8c4deb9",
   "metadata": {},
   "outputs": [],
   "source": []
  }
 ],
 "metadata": {
  "kernelspec": {
   "display_name": "Python 3 (ipykernel)",
   "language": "python",
   "name": "python3"
  },
  "language_info": {
   "codemirror_mode": {
    "name": "ipython",
    "version": 3
   },
   "file_extension": ".py",
   "mimetype": "text/x-python",
   "name": "python",
   "nbconvert_exporter": "python",
   "pygments_lexer": "ipython3",
   "version": "3.11.9"
  }
 },
 "nbformat": 4,
 "nbformat_minor": 5
}
